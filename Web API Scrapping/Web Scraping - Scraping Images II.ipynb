{
 "cells": [
  {
   "cell_type": "markdown",
   "id": "7c46e592",
   "metadata": {},
   "source": [
    "# Scrapping the image from website inspirational quotes"
   ]
  },
  {
   "cell_type": "code",
   "execution_count": 1,
   "id": "200a4970",
   "metadata": {},
   "outputs": [],
   "source": [
    "import bs4\n",
    "import requests"
   ]
  },
  {
   "cell_type": "code",
   "execution_count": 2,
   "id": "3174d843",
   "metadata": {},
   "outputs": [],
   "source": [
    "url=\"https://www.passiton.com/inspirational-quotes?page=2\""
   ]
  },
  {
   "cell_type": "code",
   "execution_count": 4,
   "id": "d07afd60",
   "metadata": {},
   "outputs": [],
   "source": [
    "response=requests.get(url)"
   ]
  },
  {
   "cell_type": "code",
   "execution_count": 8,
   "id": "df7d6c12",
   "metadata": {},
   "outputs": [],
   "source": [
    "#html parser\n",
    "Soup=bs4.BeautifulSoup(response.content)"
   ]
  },
  {
   "cell_type": "code",
   "execution_count": 9,
   "id": "2dcdcd1c",
   "metadata": {},
   "outputs": [],
   "source": [
    "article_element=Soup.findAll('div')"
   ]
  },
  {
   "cell_type": "code",
   "execution_count": 14,
   "id": "9eb425b9",
   "metadata": {},
   "outputs": [
    {
     "data": {
      "text/plain": [
       "<div class=\"col-6 col-lg-3 text-center margin-30px-bottom sm-margin-30px-top\">\n",
       "<a href=\"/inspirational-quotes/7126-to-find-the-universal-elements-enough-to-find\"><img alt=\"To find the universal elements enough; to find the air and the water exhilarating; to be refreshed by a morning walk or an evening saunter... to be thrilled by the stars at night—these are some of the rewards of the simple life. #&lt;Author:0x00007f76e555a588&gt;\" class=\"margin-10px-bottom shadow\" height=\"310\" src=\"https://assets.passiton.com/quotes/quote_artwork/7126/medium/20210929_wednesday_quote.jpg?1632434613\" width=\"310\"/></a>\n",
       "<h5 class=\"value_on_red\"><a href=\"/inspirational-quotes/7126-to-find-the-universal-elements-enough-to-find\">APPRECIATING NATURE</a></h5>\n",
       "</div>"
      ]
     },
     "execution_count": 14,
     "metadata": {},
     "output_type": "execute_result"
    }
   ],
   "source": [
    "article_element[19]"
   ]
  },
  {
   "cell_type": "code",
   "execution_count": 17,
   "id": "e9291b37",
   "metadata": {},
   "outputs": [],
   "source": [
    "article=article_element[19]"
   ]
  },
  {
   "cell_type": "code",
   "execution_count": 18,
   "id": "d9316388",
   "metadata": {},
   "outputs": [
    {
     "data": {
      "text/plain": [
       "'https://assets.passiton.com/quotes/quote_artwork/7126/medium/20210929_wednesday_quote.jpg?1632434613'"
      ]
     },
     "execution_count": 18,
     "metadata": {},
     "output_type": "execute_result"
    }
   ],
   "source": [
    "article.img.attrs['src']"
   ]
  },
  {
   "cell_type": "code",
   "execution_count": 20,
   "id": "0aaf198d",
   "metadata": {},
   "outputs": [],
   "source": [
    "with open('inspirational.jpg','wb') as file:\n",
    "    img_url=article.img.attrs['src']\n",
    "    response=requests.get(img_url)\n",
    "    file.write(response.content)"
   ]
  },
  {
   "cell_type": "code",
   "execution_count": null,
   "id": "42934442",
   "metadata": {},
   "outputs": [],
   "source": []
  }
 ],
 "metadata": {
  "kernelspec": {
   "display_name": "Python 3",
   "language": "python",
   "name": "python3"
  },
  "language_info": {
   "codemirror_mode": {
    "name": "ipython",
    "version": 3
   },
   "file_extension": ".py",
   "mimetype": "text/x-python",
   "name": "python",
   "nbconvert_exporter": "python",
   "pygments_lexer": "ipython3",
   "version": "3.8.8"
  }
 },
 "nbformat": 4,
 "nbformat_minor": 5
}
